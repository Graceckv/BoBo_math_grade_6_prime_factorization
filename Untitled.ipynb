{
 "cells": [
  {
   "cell_type": "code",
   "execution_count": null,
   "metadata": {},
   "outputs": [],
   "source": [
    "import numpy as np\n",
    "import math"
   ]
  },
  {
   "cell_type": "code",
   "execution_count": null,
   "metadata": {},
   "outputs": [],
   "source": [
    "import numpy as np\n",
    "import math\n",
    "def bo(n):\n",
    "    if isinstance(n,str)==True:\n",
    "        print(\"Mày Điên À?\", n,\"là chữ, không phải là số, biết chưa hả con dở hơi biết bơi?\\n\")\n",
    "    else:\n",
    "        if isinstance(n,int)!=True:\n",
    "            print(\"Mày ngu quá !\", n, \"là số thập phân mà, con điên!\\n\")\n",
    "        else:\n",
    "            prime_factors=[]\n",
    "            while n%2==0:\n",
    "                prime_factors.append(2)\n",
    "                n=n/2\n",
    "            for i in range(3,int(math.sqrt(n))+1,2):\n",
    "                while n%i==0:\n",
    "                    prime_factors.append(int(i))\n",
    "                    n=n/i\n",
    "            if n>2:\n",
    "                prime_factors.append(int(n))\n",
    "            return prime_factors\n",
    "\n",
    "# Type \"bo(your number)\" and click \"Run\" for the result output: \n"
   ]
  },
  {
   "cell_type": "code",
   "execution_count": null,
   "metadata": {},
   "outputs": [],
   "source": []
  },
  {
   "cell_type": "code",
   "execution_count": null,
   "metadata": {},
   "outputs": [],
   "source": []
  },
  {
   "cell_type": "code",
   "execution_count": null,
   "metadata": {},
   "outputs": [],
   "source": [
    "# Type \"bo(your number)\" and click \"Run\" for the result output: \n"
   ]
  },
  {
   "cell_type": "code",
   "execution_count": null,
   "metadata": {},
   "outputs": [],
   "source": []
  }
 ],
 "metadata": {
  "kernelspec": {
   "display_name": "Python 3",
   "language": "python",
   "name": "python3"
  },
  "language_info": {
   "codemirror_mode": {
    "name": "ipython",
    "version": 3
   },
   "file_extension": ".py",
   "mimetype": "text/x-python",
   "name": "python",
   "nbconvert_exporter": "python",
   "pygments_lexer": "ipython3",
   "version": "3.8.5"
  }
 },
 "nbformat": 4,
 "nbformat_minor": 4
}
